{
 "cells": [
  {
   "cell_type": "markdown",
   "metadata": {},
   "source": [
    "# Data Privacy and Data Ethics\n",
    "\n",
    "## Introduction\n",
    "\n",
    "Data ethics and data privacy are integral to any data project. There are obvious cases such as protecting the privacy of individuals health records under HIPPA. There are also many gray areas surrounding what constitutes personaly identifiable information (PII) which occur throughout many industries including advertising, finance and consumer goods. You may have noticed that starting around the summer of 2018, you started receiving privacy policy notices on many websites asking you to accept the use of cookies. This was a result of Europe's GDPR legislation. You are also probably aware of the Cambridge Analytica debaucle in the 2016 United States presidential election. As a data practitioner, it is your responsibility to uphold data ethics in a fast changing environment.\n",
    "\n",
    "## Objectives\n",
    "\n",
    "You will be able to:\n",
    "\n",
    "* Identify what constitutes PII\n",
    "* Describe several current privacy issues\n",
    "* Think about data ethics and privacy when using and collecting data"
   ]
  },
  {
   "cell_type": "markdown",
   "metadata": {},
   "source": [
    "## Examples\n",
    "\n",
    "### Data Breaches\n",
    "\n",
    "If the data you are handling is valuable, then security should be a primary concern. Data breaches are all too common and often, such leaks of sensitive information could have been avoided if businesses and organizations followed standard security protocols. While there are thousands of said cases, two of the biggest breaches which have caught the public's attention include Cambridge Analytica's misuse of facebook data to influence political elections, and Equifax's leaking of roughly 100 million individuals social security numbers and credit scores. \n",
    "\n",
    "### Identifying PII\n",
    "\n",
    "PII stands for personally identifiable information. While some cases such as one's social security number and medical records are clear examples of PII, other pieces of data may or may not qualify as PII depending on the jurisdiction. In the United States for example, there are two federal regulations: Health Insurance Portability and Accountability Act (HIPAA), and the Privacy Act of 1974. While in theory these acts  aim to protect the use, collection and maintenance of personal data, the scope of what constitutes PII and the subsequent regulations surrounding handling and using said data is generally antiquated. For example, a user's IP address has been categorized as non PII by in several U.S. courts despite it being a unique identifier to most individual's home internet connection. This was further eroded by the rollback of net neutrality laws by the FCC and Chairman Ajit Pai in mid 2018. Aside from federal jurisdiction, several states, most notably California have their own data protections laws to the benefit and protection of users and consumers.\n",
    "\n",
    "### GDPR\n",
    "\n",
    "GDPR stands for the general data protection regulation. It was passed on April 14th 2016 by the European Union and went into effect on May 25th 2018. GDPR protects the data rights of all European citizens and is an example of how legislation will have to change and adapt to the online digital era of the 21st century. GDPR has implemented more widespread regulations surrounding what constitutes PII and has set fine structures for up to 4% of a companies revenue.\n",
    "\n",
    "### Data Best Practices\n",
    "\n",
    "There are two primary practices that you should practice when dealing with PII and other sensitive data. The first is to encrypt sensitive data. When in doubt, encrypt. Secondly, ask yourself what level of information you really need. Large organizations will always include data cleaning teams which will first scrub sensitive data such as names and addresses before passing said data off to analysts and others to mine. Ultimately, any well thought strategy will include multiple layers, safeguards and other measures to ensure data is safe and secure.\n"
   ]
  },
  {
   "cell_type": "markdown",
   "metadata": {},
   "source": [
    "## Gray Areas and Forward Thinking\n",
    "\n",
    "Aside from overtly illegal practices according to current legislation, data privacy and ethics calls into question a myriad of various thought experiments. For example, should IP addresses or cookies be considered PII? How should security camera footage be handled? What about vehicles such as google street view cars which are capturing video and pictures of public places? Some companies are now even taking pictures of license plates to track car movements. Should they be allowed to maintain massive databases of said information? What regulations should be put on these and other potentially sensitive datasets?  \n",
    "  \n",
    "All of these examples question where and when limits should be put on data. Science fiction stories such as 1984, are much more accurate then one might expect. Moreover, injustices and questionable practices still abound. For example, despite public outcry at debuacles like Cambridge Analytica, many companies still exist with nearly identical practices such as [Applecart](https://web.archive.org/web/20160305010738/http://applecart.co/) in New York City, which collects and sells user data to the Republic party, amongst others. "
   ]
  },
  {
   "cell_type": "markdown",
   "metadata": {},
   "source": [
    "<img src=\"images/fix-it.png\" width=750>\n",
    "\n",
    "## [Fix it Already!](https://www.eff.org/deeplinks/2019/02/announcing-fix-it-already)\n",
    "\n",
    "          \n",
    "In staying current, you should also identify some news sources to stay up to date on tech trends.  \n",
    "One great resource is the [Electronic Frontier Foundation (EFF)](https://www.eff.org/).  \n",
    "  \n",
    "EFF recently put together an article called Fix it Already, outlining fixable mishaps by technology companies that continue to be ignored. Take a look at the article [here](https://www.eff.org/deeplinks/2019/02/announcing-fix-it-already) and get involved to put pressure on these organizations and your representatives to shape up. Here's a quick preview of their list:  \n",
    "  \n",
    "\n",
    "* Android should let users <a href=\"https://fixitalready.eff.org/android\">deny and revoke apps' Internet permissions</a>.</span></li>\n",
    "<li><span>Apple should let users <a href=\"https://fixitalready.eff.org/apple\">encrypt their iCloud backups</a>.</span></li>\n",
    "<li><span>Facebook should <a href=\"https://fixitalready.eff.org/facebook\">leave your phone number where you put it</a>.</span></li>\n",
    "<li><span>Slack should give <a href=\"https://fixitalready.eff.org/slack\">free workspace administrators control over data retention</a>.</span></li>\n",
    "<li><span>Twitter should <a href=\"https://fixitalready.eff.org/twitter\">end-to-end encrypt direct messages</a>.</span></li>\n",
    "<li><span>Venmo should let users <a href=\"https://fixitalready.eff.org/venmo\">hide their friends lists</a>.</span></li>\n",
    "<li><span>Verizon should <a href=\"https://fixitalready.eff.org/verizon\">stop pre-installing spyware on its users’ phones</a>.</span></li>\n",
    "<li><span>WhatsApp should <a href=\"https://fixitalready.eff.org/whatsapp\">get your consent before you’re added to a group</a>.</span></li>\n",
    "<li><span>Windows 10 should let users <a href=\"https://fixitalready.eff.org/win10\">keep their disk encryption keys to themselves</a>.</span></li>\n"
   ]
  },
  {
   "cell_type": "markdown",
   "metadata": {},
   "source": [
    "## Disclaimer\n",
    "\n",
    "As a final note, it should also be noted that the nature of online data can also include offensive or inapporpriate data at times. For example, if acquiring data from an API such as twitter, there is potential to encounter lude or offensive material. While many of these services will eventually screen out and remove particularly egregious cases, plenty of trolls still exist."
   ]
  },
  {
   "cell_type": "markdown",
   "metadata": {},
   "source": [
    "## Additional Resources\n",
    "\n",
    "There's a multitude of resources to get involved with data privacy and ethics, but here's a few to get you started.\n",
    "\n",
    "* [Electronic Frontier Foundation](https://www.eff.org/)\n",
    "* [GDPR](https://eur-lex.europa.eu/legal-content/EN/TXT/PDF/?uri=CELEX:32016R0679&from=EN)\n",
    "* [HIPPA](https://www.hhs.gov/hipaa/for-professionals/index.html)\n",
    "* [Data Detox](https://datadetox.myshadow.org/en/home)"
   ]
  },
  {
   "cell_type": "markdown",
   "metadata": {},
   "source": [
    "## Summary\n",
    "\n",
    "In this lesson, you got a preview of some of the many issues regarding data privacy and ethics. From GDPR to being aware of your own data aura, there's plenty to keep you busy and on your toes regarding this fascinating perspective on the data industry."
   ]
  }
 ],
 "metadata": {
  "kernelspec": {
   "display_name": "Python 3",
   "language": "python",
   "name": "python3"
  },
  "language_info": {
   "codemirror_mode": {
    "name": "ipython",
    "version": 3
   },
   "file_extension": ".py",
   "mimetype": "text/x-python",
   "name": "python",
   "nbconvert_exporter": "python",
   "pygments_lexer": "ipython3",
   "version": "3.6.5"
  }
 },
 "nbformat": 4,
 "nbformat_minor": 2
}
